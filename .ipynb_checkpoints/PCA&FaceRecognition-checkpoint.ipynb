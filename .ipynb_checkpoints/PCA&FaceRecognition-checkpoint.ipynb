{
 "cells": [
  {
   "cell_type": "code",
   "execution_count": 37,
   "metadata": {},
   "outputs": [],
   "source": [
    "import numpy as np\n",
    "import os\n",
    "import matplotlib.image as mpimg"
   ]
  },
  {
   "cell_type": "code",
   "execution_count": 38,
   "metadata": {},
   "outputs": [],
   "source": [
    "path = \"/Users/guilhermeviveiros/Desktop/Face_Regonition/mlFacesResized/\""
   ]
  },
  {
   "cell_type": "code",
   "execution_count": 39,
   "metadata": {},
   "outputs": [],
   "source": [
    "def getExtension(filename):\n",
    "   fileName, fileExtension = os.path.splitext(filename)\n",
    "   return fileExtension\n",
    "\n",
    "def inArray(array, to_look):\n",
    "    for x in array:\n",
    "\t    if(to_look[1:] == x):\n",
    "\t\t    return True\n",
    "\n",
    "def isImage(filename):\n",
    "   # Extensions to search\n",
    "   extensions = ['jpeg', 'jpg', 'jpe','png'];\n",
    "   extension = getExtension(filename)\n",
    "   if (inArray(extensions, extension)):\n",
    "       return True\n",
    "   return False"
   ]
  },
  {
   "cell_type": "code",
   "execution_count": 59,
   "metadata": {},
   "outputs": [
    {
     "name": "stdout",
     "output_type": "stream",
     "text": [
      "andrade\n",
      "gabi\n",
      "guilherme\n",
      "rc\n",
      "rui\n"
     ]
    }
   ],
   "source": [
    "# trainset constituido por 8 imagens de cada elemento(somos 5 por agora) 45 imagens\n",
    "# test set consituido por 2 imagens de cada elemento\n",
    "# cada imagem tem dimensão  de 1536 × 2048 \n",
    "\n",
    "def set_dataset(path,number_images, width, height):\n",
    "    \n",
    "    #o 3 vem do RGB\n",
    "    train_set = np.empty(shape=(number_images,width,height,3));\n",
    "    test_set = np.empty(shape=(2*5,width,height,3));\n",
    "    \n",
    "    tmp_train_set = 0;\n",
    "    tmp_test_set = 0;\n",
    "    \n",
    "    mlfaces = os.listdir(os.path.expanduser(\n",
    "        path\n",
    "    ))\n",
    "    \n",
    "    for user in mlfaces:\n",
    "        \n",
    "        if not user == \".DS_Store\":\n",
    "        \n",
    "            user_images = os.listdir(os.path.expanduser(\n",
    "                path + user\n",
    "            ))\n",
    "            \n",
    "            for image in user_images:\n",
    "                \n",
    "                tmp = 1\n",
    "                \n",
    "                if(isImage(image)):\n",
    "        \n",
    "                    image_path = path + user + \"/\" + image\n",
    "                \n",
    "                \n",
    "                    im = mpimg.imread(image_path)\n",
    "                    \n",
    "                    if(tmp < 9):\n",
    "                        train_set[tmp_train_set] = im;\n",
    "                    else : test_set[tmp_test_set] = im;\n",
    "            \n",
    "            tmp = tmp+1;     \n",
    "            tmp_train_set = tmp_train_set+1;\n",
    "            tmp_test_set = tmp_test_set+1;\n",
    "        \n",
    "                    \n",
    "                \n",
    "    return train_set,test_set;\n"
   ]
  },
  {
   "cell_type": "code",
   "execution_count": null,
   "metadata": {},
   "outputs": [
    {
     "name": "stdout",
     "output_type": "stream",
     "text": [
      "andrade\n",
      "gabi\n",
      "guilherme\n"
     ]
    }
   ],
   "source": [
    "# trainset constituido por 8 imagens de cada elemento(somos 5 por agora) 45 imagens\n",
    "# test set consituido por 2 imagens de cada elemento\n",
    "# cada imagem tem dimensão  de 1536 × 2048 \n",
    "\n",
    "train_set,test_set = set_dataset(path,45,2048,1536);"
   ]
  },
  {
   "cell_type": "code",
   "execution_count": null,
   "metadata": {},
   "outputs": [],
   "source": []
  }
 ],
 "metadata": {
  "kernelspec": {
   "display_name": "Python 3",
   "language": "python",
   "name": "python3"
  },
  "language_info": {
   "codemirror_mode": {
    "name": "ipython",
    "version": 3
   },
   "file_extension": ".py",
   "mimetype": "text/x-python",
   "name": "python",
   "nbconvert_exporter": "python",
   "pygments_lexer": "ipython3",
   "version": "3.7.3"
  }
 },
 "nbformat": 4,
 "nbformat_minor": 2
}
