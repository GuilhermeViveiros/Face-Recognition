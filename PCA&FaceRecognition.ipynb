{
 "cells": [
  {
   "cell_type": "code",
   "execution_count": 55,
   "metadata": {},
   "outputs": [],
   "source": [
    "import numpy as np\n",
    "import os\n",
    "import matplotlib.image as mpimg\n",
    "import matplotlib.pyplot as plt"
   ]
  },
  {
   "cell_type": "code",
   "execution_count": 56,
   "metadata": {},
   "outputs": [],
   "source": [
    "path = \"/Users/guilhermeviveiros/Desktop/Face_Regonition/mlFacesResized/\""
   ]
  },
  {
   "cell_type": "code",
   "execution_count": 57,
   "metadata": {},
   "outputs": [],
   "source": [
    "def getExtension(filename):\n",
    "   fileName, fileExtension = os.path.splitext(filename)\n",
    "   return fileExtension\n",
    "\n",
    "def inArray(array, to_look):\n",
    "    for x in array:\n",
    "\t    if(to_look[1:] == x):\n",
    "\t\t    return True\n",
    "\n",
    "def isImage(filename):\n",
    "   # Extensions to search\n",
    "   extensions = ['jpeg', 'jpg', 'jpe','png'];\n",
    "   extension = getExtension(filename)\n",
    "   if (inArray(extensions, extension)):\n",
    "       return True\n",
    "   return False"
   ]
  },
  {
   "cell_type": "code",
   "execution_count": 58,
   "metadata": {},
   "outputs": [],
   "source": [
    "# trainset constituido por 8 imagens de cada elemento(somos 5 por agora) 45 imagens\n",
    "# test set consituido por 2 imagens de cada elemento\n",
    "# cada imagem tem dimensão  de 1536 × 2048 \n",
    "\n",
    "def set_dataset(path,number_images, width, height):\n",
    "    \n",
    "    #o 3 vem do RGB\n",
    "    train_set = np.empty(shape=(number_images,width,height,3));\n",
    "    test_set = np.empty(shape=(2*5,width,height,3));\n",
    "    \n",
    "    tmp_train_set = 0;\n",
    "    tmp_test_set = 0;\n",
    "    \n",
    "    mlfaces = os.listdir(os.path.expanduser(\n",
    "        path\n",
    "    ))\n",
    "    \n",
    "    for user in mlfaces:\n",
    "        \n",
    "        if not user == \".DS_Store\":\n",
    "        \n",
    "            user_images = os.listdir(os.path.expanduser(\n",
    "                path + user\n",
    "            ))\n",
    "            \n",
    "            for image in user_images:\n",
    "                \n",
    "                tmp = 1\n",
    "                \n",
    "                if(isImage(image)):\n",
    "        \n",
    "                    image_path = path + user + \"/\" + image\n",
    "                \n",
    "                \n",
    "                    im = mpimg.imread(image_path)\n",
    "                    \n",
    "                    if(tmp < 9):\n",
    "                        train_set[tmp_train_set] = im;\n",
    "                    else : test_set[tmp_test_set] = im;\n",
    "            \n",
    "            tmp = tmp+1;     \n",
    "            tmp_train_set = tmp_train_set+1;\n",
    "            tmp_test_set = tmp_test_set+1;\n",
    "        \n",
    "                    \n",
    "                \n",
    "    return train_set,test_set;\n"
   ]
  },
  {
   "cell_type": "code",
   "execution_count": 59,
   "metadata": {},
   "outputs": [],
   "source": [
    "# trainset constituido por 8 imagens de cada elemento(somos 5 por agora) 45 imagens\n",
    "# test set consituido por 2 imagens de cada elemento\n",
    "# cada imagem tem dimensão  de 1536 × 2048 \n",
    "\n",
    "train_set,test_set = set_dataset(path,45,255,255);"
   ]
  },
  {
   "cell_type": "code",
   "execution_count": 60,
   "metadata": {},
   "outputs": [
    {
     "name": "stdout",
     "output_type": "stream",
     "text": [
      "Train set with a shape of -> (45, 255, 255, 3)\n",
      "Test set with a shape of -> (10, 255, 255, 3)\n"
     ]
    }
   ],
   "source": [
    "print(\"Train set with a shape of -> \" + str(train_set.shape))\n",
    "print(\"Test set with a shape of -> \" + str(test_set.shape))"
   ]
  },
  {
   "cell_type": "code",
   "execution_count": 61,
   "metadata": {},
   "outputs": [],
   "source": [
    "#1) calcular a matriz de covariancia\n",
    "\n",
    "#temos que ter 45 amostras, cada amostra com a sua respeitva coluna, logo vou passar de (2048,1536,3) para (2048*1536*3)\n",
    "train_set = train_set.reshape(train_set.shape[0], (train_set.shape[1]*train_set.shape[2]*train_set.shape[3]))\n",
    "test_set = test_set.reshape(test_set.shape[0], (test_set.shape[1]*test_set.shape[2]*test_set.shape[3]))"
   ]
  },
  {
   "cell_type": "code",
   "execution_count": 62,
   "metadata": {},
   "outputs": [
    {
     "name": "stdout",
     "output_type": "stream",
     "text": [
      "Train set with a shape of -> (45, 195075)\n",
      "Test set with a shape of -> (10, 195075)\n"
     ]
    }
   ],
   "source": [
    "print(\"Train set with a shape of -> \" + str(train_set.shape))\n",
    "print(\"Test set with a shape of -> \" + str(test_set.shape))\n",
    "#cada amostra/linha tem todas as suas features representadas por coluna (pixeis)"
   ]
  },
  {
   "cell_type": "code",
   "execution_count": 63,
   "metadata": {},
   "outputs": [
    {
     "data": {
      "text/plain": [
       "(45,)"
      ]
     },
     "execution_count": 63,
     "metadata": {},
     "output_type": "execute_result"
    }
   ],
   "source": [
    "train_set[:,0].shape"
   ]
  },
  {
   "cell_type": "code",
   "execution_count": 65,
   "metadata": {},
   "outputs": [],
   "source": [
    "#centralizar a matriz e fazer svd , depois valores singulares ^2 = valores proprios\n",
    "means = np.zeros(shape=(1,195075))\n",
    "for i in range(0,train_set.shape[1]):\n",
    "    means[0,i] = np.mean(train_set[:,i])"
   ]
  },
  {
   "cell_type": "code",
   "execution_count": 68,
   "metadata": {},
   "outputs": [],
   "source": [
    "train_set = train_set - means"
   ]
  },
  {
   "cell_type": "code",
   "execution_count": 88,
   "metadata": {},
   "outputs": [],
   "source": [
    "vet_prop, val_sing, v = np.linalg.svd(train_set,full_matrices=False)"
   ]
  },
  {
   "cell_type": "code",
   "execution_count": 89,
   "metadata": {},
   "outputs": [],
   "source": [
    "val_prop = np.sqrt(val_sing)"
   ]
  },
  {
   "cell_type": "code",
   "execution_count": 90,
   "metadata": {},
   "outputs": [
    {
     "name": "stdout",
     "output_type": "stream",
     "text": [
      "(45, 45)\n",
      "(45,)\n",
      "[2.27653816e+01 1.26752332e+01 9.84408740e+00 9.05284029e+00\n",
      " 6.95442748e+00 5.16417998e+00 3.50658630e+00 3.33252883e+00\n",
      " 3.06852689e+00 2.69155139e+00 2.46645185e+00 1.70447028e+00\n",
      " 9.43599200e-07 5.07831843e-07 2.89866248e-07 2.22172707e-07\n",
      " 2.22172707e-07 2.22172707e-07 2.22172707e-07 2.22172707e-07\n",
      " 2.22172707e-07 2.22172707e-07 2.22172707e-07 2.22172707e-07\n",
      " 2.22172707e-07 2.22172707e-07 2.22172707e-07 2.22172707e-07\n",
      " 2.22172707e-07 2.22172707e-07 2.22172707e-07 2.22172707e-07\n",
      " 2.22172707e-07 2.22172707e-07 2.22172707e-07 2.22172707e-07\n",
      " 2.22172707e-07 2.22172707e-07 2.22172707e-07 2.22172707e-07\n",
      " 2.22172707e-07 2.22172707e-07 2.22172707e-07 2.22172707e-07\n",
      " 2.22172707e-07]\n"
     ]
    }
   ],
   "source": [
    "print(vet_prop.shape)\n",
    "print(val_prop.shape)\n",
    "print(val_prop)"
   ]
  },
  {
   "cell_type": "code",
   "execution_count": 91,
   "metadata": {},
   "outputs": [
    {
     "name": "stdout",
     "output_type": "stream",
     "text": [
      "Até agora, tudo bem\n"
     ]
    }
   ],
   "source": [
    "if(not sum(val_prop) / np.trace(mat_cov) >= 0.001): print(\"Algo deu errado nos valores próprios!\");\n",
    "else : print(\"Até agora, tudo bem\")"
   ]
  },
  {
   "cell_type": "code",
   "execution_count": 92,
   "metadata": {},
   "outputs": [
    {
     "data": {
      "text/plain": [
       "(6, 0.7984996423670685)"
      ]
     },
     "execution_count": 92,
     "metadata": {},
     "output_type": "execute_result"
    }
   ],
   "source": [
    "#2) ver quantos valores próprios é que são relevantes\n",
    "diag = np.sum(val_prop)\n",
    "confianca_alvo = 0.75\n",
    "k = 0\n",
    "confianca = 0\n",
    "while confianca < confianca_alvo:\n",
    "    confianca= confianca + (val_prop[k]/diag)\n",
    "    k += 1\n",
    "k, confianca"
   ]
  },
  {
   "cell_type": "code",
   "execution_count": 93,
   "metadata": {},
   "outputs": [
    {
     "data": {
      "image/png": "[encoded data removed]",
      "text/plain": [
       "<Figure size 720x720 with 1 Axes>"
      ]
     },
     "metadata": {
      "needs_background": "light"
     },
     "output_type": "display_data"
    }
   ],
   "source": [
    "plt.figure(figsize=(10,10))\n",
    "M = 45 #representa o número de valores próprios\n",
    "t = np.arange(0, M, 1)\n",
    "plt.plot(t, val_prop, 'x')\n",
    "plt.plot(6, val_prop[6], 'o')\n",
    "plt.show()"
   ]
  },
  {
   "cell_type": "code",
   "execution_count": 94,
   "metadata": {},
   "outputs": [],
   "source": [
    "#podemos reparar pelo método do cotovelo que com 3 vetores próprios temos uma boa representação do conjunto de imagens\n",
    "#observemos em baixo os primeiros vetores próprios(aqueles que representam melhor o dataset)"
   ]
  },
  {
   "cell_type": "code",
   "execution_count": 100,
   "metadata": {},
   "outputs": [
    {
     "name": "stderr",
     "output_type": "stream",
     "text": [
      "Clipping input data to the valid range for imshow with RGB data ([0..1] for floats or [0..255] for integers).\n"
     ]
    },
    {
     "data": {
      "text/plain": [
       "<matplotlib.image.AxesImage at 0x1e8cb0160>"
      ]
     },
     "metadata": {},
     "output_type": "display_data"
    },
    {
     "data": {
      "image/png": "[encoded data removed]",
      "text/plain": [
       "<Figure size 288x288 with 1 Axes>"
      ]
     },
     "metadata": {
      "needs_background": "light"
     },
     "output_type": "display_data"
    }
   ],
   "source": [
    "display(plt.matshow(np.reshape(v[0], (255,255,3)), cmap='gray'))"
   ]
  },
  {
   "cell_type": "code",
   "execution_count": 87,
   "metadata": {},
   "outputs": [
    {
     "data": {
      "text/plain": [
       "(45,)"
      ]
     },
     "execution_count": 87,
     "metadata": {},
     "output_type": "execute_result"
    }
   ],
   "source": [
    "vet_prop[0].shape"
   ]
  },
  {
   "cell_type": "code",
   "execution_count": null,
   "metadata": {},
   "outputs": [],
   "source": []
  }
 ],
 "metadata": {
  "kernelspec": {
   "display_name": "Python 3",
   "language": "python",
   "name": "python3"
  },
  "language_info": {
   "codemirror_mode": {
    "name": "ipython",
    "version": 3
   },
   "file_extension": ".py",
   "mimetype": "text/x-python",
   "name": "python",
   "nbconvert_exporter": "python",
   "pygments_lexer": "ipython3",
   "version": "3.7.3"
  }
 },
 "nbformat": 4,
 "nbformat_minor": 2
}
