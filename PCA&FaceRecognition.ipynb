{
 "cells": [
  {
   "cell_type": "code",
   "execution_count": null,
   "metadata": {},
   "outputs": [],
   "source": [
    "import numpy as np\n",
    "import os\n",
    "import matplotlib.image as mpimg\n",
    "import matplotlib.pyplot as plt"
   ]
  },
  {
   "cell_type": "code",
   "execution_count": null,
   "metadata": {},
   "outputs": [],
   "source": [
    "path = \"/Users/guilhermeviveiros/Desktop/Face_Regonition/mlFacesResized/\""
   ]
  },
  {
   "cell_type": "code",
   "execution_count": 39,
   "metadata": {},
   "outputs": [],
   "source": [
    "def getExtension(filename):\n",
    "   fileName, fileExtension = os.path.splitext(filename)\n",
    "   return fileExtension\n",
    "\n",
    "def inArray(array, to_look):\n",
    "    for x in array:\n",
    "\t    if(to_look[1:] == x):\n",
    "\t\t    return True\n",
    "\n",
    "def isImage(filename):\n",
    "   # Extensions to search\n",
    "   extensions = ['jpeg', 'jpg', 'jpe','png'];\n",
    "   extension = getExtension(filename)\n",
    "   if (inArray(extensions, extension)):\n",
    "       return True\n",
    "   return False"
   ]
  },
  {
   "cell_type": "code",
   "execution_count": 82,
   "metadata": {},
   "outputs": [],
   "source": [
    "# trainset constituido por 8 imagens de cada elemento(somos 5 por agora) 45 imagens\n",
    "# test set consituido por 2 imagens de cada elemento\n",
    "# cada imagem tem dimensão  de 1536 × 2048 \n",
    "\n",
    "def set_dataset(path,number_images, width, height):\n",
    "    \n",
    "    #o 3 vem do RGB\n",
    "    train_set = np.empty(shape=(number_images,width,height,3));\n",
    "    test_set = np.empty(shape=(2*5,width,height,3));\n",
    "    \n",
    "    tmp_train_set = 0;\n",
    "    tmp_test_set = 0;\n",
    "    \n",
    "    mlfaces = os.listdir(os.path.expanduser(\n",
    "        path\n",
    "    ))\n",
    "    \n",
    "    for user in mlfaces:\n",
    "        \n",
    "        if not user == \".DS_Store\":\n",
    "        \n",
    "            user_images = os.listdir(os.path.expanduser(\n",
    "                path + user\n",
    "            ))\n",
    "            \n",
    "            for image in user_images:\n",
    "                \n",
    "                tmp = 1\n",
    "                \n",
    "                if(isImage(image)):\n",
    "        \n",
    "                    image_path = path + user + \"/\" + image\n",
    "                \n",
    "                \n",
    "                    im = mpimg.imread(image_path)\n",
    "                    \n",
    "                    if(tmp < 9):\n",
    "                        train_set[tmp_train_set] = im;\n",
    "                    else : test_set[tmp_test_set] = im;\n",
    "            \n",
    "            tmp = tmp+1;     \n",
    "            tmp_train_set = tmp_train_set+1;\n",
    "            tmp_test_set = tmp_test_set+1;\n",
    "        \n",
    "                    \n",
    "                \n",
    "    return train_set,test_set;\n"
   ]
  },
  {
   "cell_type": "code",
   "execution_count": 83,
   "metadata": {},
   "outputs": [],
   "source": [
    "# trainset constituido por 8 imagens de cada elemento(somos 5 por agora) 45 imagens\n",
    "# test set consituido por 2 imagens de cada elemento\n",
    "# cada imagem tem dimensão  de 1536 × 2048 \n",
    "\n",
    "train_set,test_set = set_dataset(path,45,2048,1536);"
   ]
  },
  {
   "cell_type": "code",
   "execution_count": 84,
   "metadata": {},
   "outputs": [
    {
     "name": "stdout",
     "output_type": "stream",
     "text": [
      "Train set with a shape of -> (45, 2048, 1536, 3)\n",
      "Test set with a shape of -> (10, 2048, 1536, 3)\n"
     ]
    }
   ],
   "source": [
    "print(\"Train set with a shape of -> \" + str(train_set.shape))\n",
    "print(\"Test set with a shape of -> \" + str(test_set.shape))"
   ]
  },
  {
   "cell_type": "code",
   "execution_count": 90,
   "metadata": {},
   "outputs": [],
   "source": [
    "#1) calcular a matriz de covariancia\n",
    "\n",
    "#temos que ter 45 amostras, cada amostra com a sua respeitva coluna, logo vou passar de (2048,1536,3) para (2048*1536*3)\n",
    "train_set = train_set.reshape(train_set.shape[0], (train_set.shape[1]*train_set.shape[2]*train_set.shape[3]))\n",
    "test_set = test_set.reshape(test_set.shape[0], (test_set.shape[1]*test_set.shape[2]*test_set.shape[3]))"
   ]
  },
  {
   "cell_type": "code",
   "execution_count": 91,
   "metadata": {},
   "outputs": [
    {
     "name": "stdout",
     "output_type": "stream",
     "text": [
      "Train set with a shape of -> (45, 9437184)\n",
      "Test set with a shape of -> (10, 9437184)\n"
     ]
    }
   ],
   "source": [
    "print(\"Train set with a shape of -> \" + str(train_set.shape))\n",
    "print(\"Test set with a shape of -> \" + str(test_set.shape))\n",
    "#cada amostra/linha tem todas as suas features representadas por coluna (pixeis)"
   ]
  },
  {
   "cell_type": "code",
   "execution_count": 96,
   "metadata": {},
   "outputs": [],
   "source": [
    "mat_cov = np.cov(train_set)\n",
    "#print(train_set[0,:].shape)"
   ]
  },
  {
   "cell_type": "code",
   "execution_count": 134,
   "metadata": {},
   "outputs": [
    {
     "name": "stdout",
     "output_type": "stream",
     "text": [
      "(45, 9437184)\n"
     ]
    }
   ],
   "source": [
    "mat_cov.shape\n",
    "print(train_set.shape)\n",
    "#temos os 45 vetores proprios"
   ]
  },
  {
   "cell_type": "code",
   "execution_count": null,
   "metadata": {},
   "outputs": [],
   "source": [
    "vet_prop, val_prop, _ = np.linalg.svd(train_set,full_matrices=False)"
   ]
  },
  {
   "cell_type": "code",
   "execution_count": null,
   "metadata": {},
   "outputs": [],
   "source": [
    "print(vet_prop.shape)\n",
    "print(val_prop.shape)\n",
    "print(val_prop)"
   ]
  },
  {
   "cell_type": "code",
   "execution_count": null,
   "metadata": {},
   "outputs": [],
   "source": [
    "if(not sum(val_prop) / np.trace(mat_cov) >= 0.001): print(\"Algo deu errado nos valores próprios!\");\n",
    "else : print(\"Até agora, tudo bem\")"
   ]
  },
  {
   "cell_type": "code",
   "execution_count": 116,
   "metadata": {},
   "outputs": [
    {
     "data": {
      "text/plain": [
       "(3, 0.9044780753118149)"
      ]
     },
     "execution_count": 116,
     "metadata": {},
     "output_type": "execute_result"
    }
   ],
   "source": [
    "#2) ver quantos valores próprios é que são relevantes\n",
    "diag = np.trace(mat_cov)\n",
    "confianca_alvo = 0.90\n",
    "k = 0\n",
    "confianca = 0\n",
    "while confianca < confianca_alvo:\n",
    "    confianca= confianca + (val_prop[k]/diag)\n",
    "    k += 1\n",
    "k, confianca"
   ]
  },
  {
   "cell_type": "code",
   "execution_count": 117,
   "metadata": {},
   "outputs": [
    {
     "data": {
      "image/png": "[encoded data removed]",
      "text/plain": [
       "<Figure size 720x720 with 1 Axes>"
      ]
     },
     "metadata": {
      "needs_background": "light"
     },
     "output_type": "display_data"
    }
   ],
   "source": [
    "plt.figure(figsize=(10,10))\n",
    "M = 45 #representa o número de valores próprios\n",
    "t = np.arange(0, M, 1)\n",
    "plt.plot(t, val_prop, 'x')\n",
    "plt.plot(k, val_prop[k], 'o')\n",
    "plt.show()"
   ]
  },
  {
   "cell_type": "code",
   "execution_count": 120,
   "metadata": {},
   "outputs": [],
   "source": [
    "#podemos reparar pelo método do cotovelo que com 3 vetores próprios temos uma boa representação do conjunto de imagens\n",
    "#observemos em baixo os primeiros vetores próprios(aqueles que representam melhor o dataset)"
   ]
  },
  {
   "cell_type": "code",
   "execution_count": 133,
   "metadata": {},
   "outputs": [
    {
     "data": {
      "text/plain": [
       "<matplotlib.image.AxesImage at 0x117f30e48>"
      ]
     },
     "metadata": {},
     "output_type": "display_data"
    },
    {
     "data": {
      "image/png": "[encoded data removed]",
      "text/plain": [
       "<Figure size 288x1152 with 1 Axes>"
      ]
     },
     "metadata": {
      "needs_background": "light"
     },
     "output_type": "display_data"
    }
   ],
   "source": [
    "display(plt.matshow(np.reshape(vet_prop.T[0], (45,1)), cmap='gray'))"
   ]
  },
  {
   "cell_type": "code",
   "execution_count": null,
   "metadata": {},
   "outputs": [],
   "source": []
  }
 ],
 "metadata": {
  "kernelspec": {
   "display_name": "Python 3",
   "language": "python",
   "name": "python3"
  },
  "language_info": {
   "codemirror_mode": {
    "name": "ipython",
    "version": 3
   },
   "file_extension": ".py",
   "mimetype": "text/x-python",
   "name": "python",
   "nbconvert_exporter": "python",
   "pygments_lexer": "ipython3",
   "version": "3.7.3"
  }
 },
 "nbformat": 4,
 "nbformat_minor": 2
}
